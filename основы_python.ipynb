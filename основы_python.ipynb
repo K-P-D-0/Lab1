{
  "nbformat": 4,
  "nbformat_minor": 0,
  "metadata": {
    "colab": {
      "provenance": []
    },
    "kernelspec": {
      "name": "python3",
      "display_name": "Python 3"
    },
    "language_info": {
      "name": "python"
    }
  },
  "cells": [
    {
      "cell_type": "markdown",
      "source": [
        "#Задача 1\n",
        "Написать функцию на вход которой подается строка, состоящая из латинских букв.\n",
        "Функция должна вернуть количество гласных букв (a, e, i, o, u) в этой строке. Написать тесты для кода"
      ],
      "metadata": {
        "id": "M-DGa20PaHnu"
      }
    },
    {
      "cell_type": "code",
      "source": [
        "def task1(x):\n",
        "  vowel_letters = ['e', 'y', 'u', 'i', 'o', 'a']\n",
        "  cnt_vowel_letters = 0\n",
        "  for letter in x:\n",
        "    if letter in vowel_letters:\n",
        "      cnt_vowel_letters += 1\n",
        "  return cnt_vowel_letters\n",
        "\n",
        "#Тесты\n",
        "if task1(\"qwertyuiop\") != 5:\n",
        "  print(\"Test 1 is failed\")\n",
        "if task1(\"asdfghjkl\") != 1:\n",
        "  print(\"Test 2 is failed\")\n",
        "if task1(\"zxcvbnm\") != 0:\n",
        "  print(\"Test 3 is failed\")\n",
        "if task1(\"\") != 0:\n",
        "  print(\"Test 4 is failed\")"
      ],
      "metadata": {
        "id": "XvX8X_JJ6PCb"
      },
      "execution_count": 2,
      "outputs": []
    },
    {
      "cell_type": "markdown",
      "source": [
        "# Задача 2\n",
        "Написать функцию на вход, которой подается строка. Функция должна вернуть true, если\n",
        "каждый символ в строке встречается только 1 раз, иначе должна вернуть false. Написать тесты для кода"
      ],
      "metadata": {
        "id": "t2ClV_Y0bbr6"
      }
    },
    {
      "cell_type": "code",
      "source": [
        "def task2(x):\n",
        "  letters = []\n",
        "  for letter in x:\n",
        "    if letter in letters:\n",
        "      return False\n",
        "    letters.append(letter)\n",
        "  return True\n",
        "\n",
        "#Тесты\n",
        "if task2(\"qwertyuiop\") != True:\n",
        "  print(\"Test 1 is failed\")\n",
        "if task2(\"asdfghjkl\") != True:\n",
        "  print(\"Test 2 is failed\")\n",
        "if task2(\"asdsgh\") != False:\n",
        "  print(\"Test 3 is failed\")\n",
        "if task2(\"\") != True:\n",
        "  print(\"Test 4 is failed\")"
      ],
      "metadata": {
        "id": "FppbECao6VIz"
      },
      "execution_count": 3,
      "outputs": []
    },
    {
      "cell_type": "markdown",
      "source": [
        "# Задача 3\n",
        "Написать функцию, которая принимает положительное число и возвращает количество\n",
        "бит равных 1 в этом числе. Написать тесты для кода"
      ],
      "metadata": {
        "id": "udRiIK1cdt6E"
      }
    },
    {
      "cell_type": "code",
      "source": [
        "def task3(n):\n",
        "  count = 0\n",
        "  while n > 0:\n",
        "    count += n & 1\n",
        "    n >>= 1\n",
        "  return count\n",
        "\n",
        "#Тесты\n",
        "if task3(1) != 1:\n",
        "  print(\"Test 1 is failed\")\n",
        "if task3(2) != 1:\n",
        "  print(\"Test 2 is failed\")\n",
        "if task3(5) != 2:\n",
        "  print(\"Test 3 is failed\")\n",
        "if task3(255) != 8:\n",
        "  print(\"Test 4 is failed\")"
      ],
      "metadata": {
        "id": "6tkfDJRz6dp_"
      },
      "execution_count": 5,
      "outputs": []
    },
    {
      "cell_type": "markdown",
      "source": [
        "# Задача 4\n",
        "Написать функцию, которая принимает положительное число. Функция должна вернуть то,\n",
        "сколько раз необходимо перемножать цифры числа или результат перемножения, чтобы\n",
        "получилось число состоящее из одной цифры.\n",
        "Например, для входного числа:\n",
        "· 39 функция должна вернуть 3, так как 3*9=27 => 2*7=14 => 1*4=4\n",
        "· 4 функция должна вернуть 0, так как число уже состоит из одной цифры\n",
        "· 999 функция должна вернуть 4, так как 9*9*9=729 => 7*2*9=126 => 1*2*6=12 =>\n",
        "1*2=2. Написать тесты для кода"
      ],
      "metadata": {
        "id": "26dDUz-Ae17N"
      }
    },
    {
      "cell_type": "code",
      "source": [
        "def magic(n):\n",
        "  steps = 0\n",
        "  while n >= 10:\n",
        "    product = 1\n",
        "    for digit in str(n):\n",
        "      product *= int(digit)\n",
        "    n = product\n",
        "    steps += 1\n",
        "  return steps\n",
        "\n",
        "#Тесты\n",
        "if magic(4) != 0:\n",
        "  print(\"Test 1 is failed\")\n",
        "if magic(39) != 3:\n",
        "  print(\"Test 2 is failed\")\n",
        "if magic(999) != 4:\n",
        "  print(\"Test 3 is failed\")\n",
        "if magic(123) != 1:\n",
        "  print(\"Test 4 is failed\")"
      ],
      "metadata": {
        "id": "BH1A_Mgi6i4G"
      },
      "execution_count": 6,
      "outputs": []
    },
    {
      "cell_type": "markdown",
      "source": [
        "# Задача 5\n",
        "Написать функцию, которая принимает два целочисленных вектора одинаковой длины и\n",
        "возвращает среднеквадратическое отклонение двух векторов. Написать тесты для кода"
      ],
      "metadata": {
        "id": "0nS-kIa8g8vd"
      }
    },
    {
      "cell_type": "code",
      "source": [
        "import numpy as np\n",
        "\n",
        "def mse(pred, true):\n",
        "    squares = (pred - true) ** 2\n",
        "    a = squares.mean()\n",
        "    return squares.mean()\n",
        "\n",
        "#Тесты\n",
        "if mse(np.array([1, 2, 3]), np.array([1, 2, 3])) != 0.0:\n",
        "  print(\"Test 1 is failed\")\n",
        "if mse(np.array([1, 2, 3]), np.array([2, 3, 4])) != 1.0:\n",
        "  print(\"Test 2 is failed\")"
      ],
      "metadata": {
        "id": "8iphx4LM6xbx"
      },
      "execution_count": 8,
      "outputs": []
    },
    {
      "cell_type": "markdown",
      "source": [
        "# Задача 6\n",
        "Написать функцию, принимающая целое положительное число. Функция должна вернуть\n",
        "строку вида “(n1**p1)(n2**p2)…(nk**pk)” представляющая разложение числа на простые\n",
        "множители (если pi == 1, то выводить только ni).\n",
        "Например, для числа 86240 функция должна вернуть “(2**5)(5)(7**2)(11)”. Написать тесты для кода"
      ],
      "metadata": {
        "id": "vpIPKL439zkw"
      }
    },
    {
      "cell_type": "code",
      "source": [
        "def task6(n):\n",
        "    def is_prime(num):\n",
        "        if num < 2:\n",
        "            return False\n",
        "        for i in range(2, int(num ** 0.5) + 1):\n",
        "            if num % i == 0:\n",
        "                return False\n",
        "        return True\n",
        "\n",
        "    factors = {}\n",
        "    current = n\n",
        "    divisor = 2\n",
        "\n",
        "    while current > 1:\n",
        "        if is_prime(divisor) and current % divisor == 0:\n",
        "            factors[divisor] = factors.get(divisor, 0) + 1\n",
        "            current = current // divisor\n",
        "        else:\n",
        "            divisor += 1\n",
        "\n",
        "    result = []\n",
        "    for prime in sorted(factors.keys()):\n",
        "        power = factors[prime]\n",
        "        if power == 1:\n",
        "            result.append(f\"({prime})\")\n",
        "        else:\n",
        "            result.append(f\"({prime}**{power})\")\n",
        "    a = \"\".join(result)\n",
        "    return \"\".join(result)\n",
        "\n",
        "#Тесты\n",
        "if task6(2) != \"(2)\":\n",
        "    print(\"Test 1 is failed\")\n",
        "if task6(8) != \"(2**3)\":\n",
        "    print(\"Test 2 is failed\")\n",
        "if task6(86240) != \"(2**5)(5)(7**2)(11)\":\n",
        "    print(\"Test 3 is failed\")"
      ],
      "metadata": {
        "id": "pFebmcZk94Jw"
      },
      "execution_count": 11,
      "outputs": []
    },
    {
      "cell_type": "markdown",
      "source": [
        "# Задача 7\n",
        "Написать функцию, принимающая целое число n, задающее количество кубиков. Функция\n",
        "должна определить, можно ли из данного кол-ва кубиков построить пирамиду, то есть\n",
        "можно ли представить число n как 1^2+2^2+3^2+…+k^2. Если можно, то функция должна\n",
        "вернуть k, иначе строку “It is impossible”. Написать тесты для кода"
      ],
      "metadata": {
        "id": "ps2s0BudX7A2"
      }
    },
    {
      "cell_type": "code",
      "source": [
        "def pyramid(number):\n",
        "    if number <= 0:\n",
        "        return \"It is impossible\"\n",
        "\n",
        "    total = 0\n",
        "    k = 0\n",
        "    while total < number:\n",
        "        k += 1\n",
        "        total += k ** 2\n",
        "        if total == number:\n",
        "            return k\n",
        "    return \"It is impossible\"\n",
        "\n",
        "#Тесты\n",
        "if pyramid(1) != 1:\n",
        "    print(\"Test 1 failed\")\n",
        "if pyramid(500) != \"It is impossible\":\n",
        "    print(\"Test 2 failed\")\n",
        "if pyramid(14) != 3:\n",
        "    print(\"Test 3 failed\")\n",
        "if pyramid(506) != 11:\n",
        "    print(\"Test 4 failed\")"
      ],
      "metadata": {
        "id": "3YPjEXxhX_YT"
      },
      "execution_count": 13,
      "outputs": []
    },
    {
      "cell_type": "markdown",
      "source": [
        "# Задача 8\n",
        "Функция принимает на вход положительное число и определяет является ли оно сбалансированным, т.е. сумма цифр до средних равна сумме цифр после. Средними в случае нечетного числа цифр считать одну цифру, в случае четного - две средних. Написать тесты для кода"
      ],
      "metadata": {
        "id": "KeKgmIdAQMEJ"
      }
    },
    {
      "cell_type": "code",
      "source": [
        "def pyramid(number):\n",
        "    digits = [int(d) for d in str(number)]\n",
        "    length = len(digits)\n",
        "\n",
        "    if length == 1:\n",
        "        return True\n",
        "\n",
        "    middle = length // 2\n",
        "\n",
        "    if length % 2 == 1:\n",
        "        left = digits[:middle]\n",
        "        right = digits[middle + 1:]\n",
        "    else:\n",
        "        left = digits[:middle - 1]\n",
        "        right = digits[middle + 1:]\n",
        "\n",
        "    return sum(left) == sum(right)\n",
        "\n",
        "#Тесты\n",
        "if not pyramid(5):\n",
        "    print(\"Test 1 failed\")\n",
        "if pyramid(1230):\n",
        "    print(\"Test 2 failed\")\n",
        "if pyramid(1234):\n",
        "    print(\"Test 3 failed\")\n",
        "if not pyramid(121):\n",
        "    print(\"Test 4 failed\")\n",
        "if pyramid(123):\n",
        "    print(\"Test 5 failed\")"
      ],
      "metadata": {
        "id": "gMAAqtqlQrZt"
      },
      "execution_count": 14,
      "outputs": []
    }
  ]
}
